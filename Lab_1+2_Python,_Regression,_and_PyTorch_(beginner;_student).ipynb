{
  "nbformat": 4,
  "nbformat_minor": 0,
  "metadata": {
    "kernelspec": {
      "display_name": "Python 3",
      "language": "python",
      "name": "python3"
    },
    "language_info": {
      "codemirror_mode": {
        "name": "ipython",
        "version": 3
      },
      "file_extension": ".py",
      "mimetype": "text/x-python",
      "name": "python",
      "nbconvert_exporter": "python",
      "pygments_lexer": "ipython3",
      "version": "3.6.8"
    },
    "colab": {
      "name": "Lab 1+2: Python, Regression, and PyTorch (beginner; student).ipynb",
      "provenance": [],
      "collapsed_sections": [],
      "include_colab_link": true
    }
  },
  "cells": [
    {
      "cell_type": "markdown",
      "metadata": {
        "id": "view-in-github",
        "colab_type": "text"
      },
      "source": [
        "<a href=\"https://colab.research.google.com/github/tanzil7/automate-spotify-python/blob/master/Lab_1%2B2_Python%2C_Regression%2C_and_PyTorch_(beginner%3B_student).ipynb\" target=\"_parent\"><img src=\"https://colab.research.google.com/assets/colab-badge.svg\" alt=\"Open In Colab\"/></a>"
      ]
    },
    {
      "cell_type": "markdown",
      "metadata": {
        "id": "Ttj73Ee58VDE"
      },
      "source": [
        "**NOTE**: Please make a personal copy of this notebook by selecting 'File' > 'Save a copy in Drive' in the menu bars above.\n",
        "\n",
        "\n",
        "Overview\n",
        "=====================\n",
        "\n",
        "While programming offers a powerful way to automate repetitive processes, it's only applicable if we are able to precisely specify and program the behavior we want. Machine learning offers us a way to avoid this need for exact specification by only requiring us to specify a goal, and then having an algorithm learn a way to achieve that goal.\n",
        "\n",
        "The machine learning workflow typically consists of the following steps\n",
        "\n",
        "1. Acquire and process data for the problem of interest\n",
        "2. Choose a model\n",
        "3. Define an objective\n",
        "4. Train the model on the training data\n",
        "5. Evaluate the trained model on the test data\n",
        "\n",
        "We will walk through these steps in a simple but realistic setting."
      ]
    },
    {
      "cell_type": "markdown",
      "metadata": {
        "id": "cUL7mIgUhHZN"
      },
      "source": [
        "This lab is a Colab notebook, an interactive Python environment.\n",
        "A notebook consists of multiple text cells (like this one) and code cells. You can make new cells of either type by clicking the \"+\" buttons in the top left corner.\n",
        "\n",
        "You can write code blocks, and then execute the code by highlighting the block then pressing control+enter. Try this with the following cell.\n"
      ]
    },
    {
      "cell_type": "code",
      "metadata": {
        "id": "lR6mn19Q8VC9"
      },
      "source": [
        "%matplotlib inline"
      ],
      "execution_count": null,
      "outputs": []
    },
    {
      "cell_type": "markdown",
      "metadata": {
        "id": "eJ4bKo_ZpHHY"
      },
      "source": [
        "## Python\n",
        "\n",
        "\n",
        "For this lab and much of machine learning, we will use Python for its ease of understanding and large library ecosystem. Let's briefly go over Python syntax and features.\n",
        "\n",
        "Python is an [imperative language](https://en.wikipedia.org/wiki/Imperative_programming) based on [statements](https://en.wikipedia.org/wiki/Statement_(computer_science)). That is, programs in Python consists of lines composed of statements. Among other things, a statement can be:\n",
        "* a single expression, e.g. `5 + 5`\n",
        "* an assignment, e.g. `x = 5`\n",
        "    * variable names can be any length and can consist of uppercase and lowercase letters (A-Z, a-z), digits (0-9), and the underscore character (_), except they cannot start with a digit\n",
        "* a function call, e.g. `print(x)`\n",
        "* make in-line comments by prepending lines with \\#"
      ]
    },
    {
      "cell_type": "markdown",
      "metadata": {
        "id": "5lAwIxV5qF_O"
      },
      "source": [
        "### Built-in Data Types\n",
        "\n",
        "* Numbers: there are two important numerical types, `int` and `float`\n",
        "  * integers: `1`, `-3`, etc.\n",
        "  * floating-point: `1.0`, `3.14`, etc.\n",
        "* strings: `'apple'`, `\"v\"`\n",
        "* boolean values: `True`, `False`"
      ]
    },
    {
      "cell_type": "markdown",
      "metadata": {
        "id": "kEu4JTHnrpDG"
      },
      "source": [
        "### Functions\n",
        "\n",
        "Functions are defined with the following syntax:\n",
        "```\n",
        "def function_name(arg1, args2=default2, ...):\n",
        "    # function body\n",
        "    return\n",
        "```\n",
        "Most of the time, your functions should return a value (possibly multiple values, separated by commas) using the `return` keyword, but this isn't a requirement. If you don't explicitly return something, the function will return the special `None` value by default.\n",
        "\n",
        "Functions are called by using the function name followed by parentheses.\n",
        "If you use the function name without parentheses, you are referring to the function itself, as an object.\n",
        "\n",
        "Python contains many built-in functions. Some of these are straightforward math operators, (e.g. `+, -, /, *`), and others must be called using parentheses, such as `print()`, `int()`, `sum()`, or `len()`.\n",
        "\n",
        "**(exercise)** Write a function that takes in two numbers and computes their mean."
      ]
    },
    {
      "cell_type": "code",
      "metadata": {
        "id": "nri12FTCpaNp"
      },
      "source": [
        ""
      ],
      "execution_count": null,
      "outputs": []
    },
    {
      "cell_type": "markdown",
      "metadata": {
        "id": "F1hQYVS-rGL0"
      },
      "source": [
        "### Data Structures\n",
        "\n",
        "Python also has three built-in data structures that are very useful:\n",
        "\n",
        "**Lists** are ordered lists and are created using brackets (`[]`) with comma-separated values. We can access list elements using the list name followed by the index of the element we want to access."
      ]
    },
    {
      "cell_type": "code",
      "metadata": {
        "id": "a7rFwFL0rM8S"
      },
      "source": [
        "# lists\r\n",
        "l = [1, 2, 3]\r\n",
        "print(l[0]) # indexing\r\n",
        "print(l[1])\r\n",
        "print(1[-1]) # negative indexing\r\n",
        "print(l[:2]) # slicing\r\n",
        "\r\n",
        "ll = [1, \"a\", []] # list elements don't need to be the same type\r\n",
        "\r\n",
        "lll = [] # defining empty list, also `list()`\r\n",
        "print(lll)\r\n",
        "lll.append(1) # add to a list\r\n",
        "lll.append(2)\r\n",
        "print(lll)\r\n",
        "print(len(lll)) # get the length\r\n",
        "\r\n",
        "print(ll + lll) # concatenation of two lists"
      ],
      "execution_count": null,
      "outputs": []
    },
    {
      "cell_type": "markdown",
      "metadata": {
        "id": "UdVydmiCqkmO"
      },
      "source": [
        "**Dictionaries**, or hash tables, are sets of key-value pairs. We create dictionaries using curly braces (`{}`). We can access the value associated with a particular key by typing the name of the dictionary followed by the key in brackets. The key can be a variable or a literal (strings or numbers).\r\n"
      ]
    },
    {
      "cell_type": "code",
      "metadata": {
        "id": "2eV4PAYzriWr"
      },
      "source": [
        "d = {\"apple\": \"a fruit\", \"banana\": \"an herb\", \"monkey\": \"a mammal\"}\r\n",
        "print(len(d)) # number of key-value pairs in d\r\n",
        "print(d[\"apple\"]) # accessing an element\r\n",
        "\r\n",
        "d['broccoli'] = 'a vegetable' # assign a new key-value pair\r\n",
        "del d['apple'] # delete a key-value pair\r\n",
        "print(\"apple\" in d) # check membership\r\n",
        "key = \"banana\"\r\n",
        "print(key in d) # variables as keys\r\n",
        "\r\n",
        "print(d.keys()) # unordered list of keys in the dictionary\r\n",
        "print(d.values()) # unordered list of values in the dictionary"
      ],
      "execution_count": null,
      "outputs": []
    },
    {
      "cell_type": "markdown",
      "metadata": {
        "id": "GZVcUoCQqmDh"
      },
      "source": [
        "**Tuples** are also ordered lists of items, but unlike lists they cannot be changed (i.e., they're immutable). Tuples are created using parentheses and their elements can also be accessed using brackets.\r\n"
      ]
    },
    {
      "cell_type": "code",
      "metadata": {
        "id": "S7mzqXoGreG4",
        "colab": {
          "base_uri": "https://localhost:8080/"
        },
        "outputId": "0fb625bd-7015-46ac-b8bf-484f5606ca02"
      },
      "source": [
        "t = (1, 2, \"cow\")\r\n",
        "print(t[-1])"
      ],
      "execution_count": null,
      "outputs": [
        {
          "output_type": "stream",
          "text": [
            "cow\n"
          ],
          "name": "stdout"
        }
      ]
    },
    {
      "cell_type": "markdown",
      "metadata": {
        "id": "KIq03V2Z2Ypd"
      },
      "source": [
        "### Control Flow\r\n",
        "\r\n",
        "Python supports standard control flow keywords such as \r\n",
        "* `if`/`elif`/`else`\r\n",
        "    ```\r\n",
        "    if condition_a:\r\n",
        "      # do something\r\n",
        "    elif condition_b:\r\n",
        "      # do something else\r\n",
        "    else:\r\n",
        "      # do something else instead\r\n",
        "    ```\r\n",
        "    Note that `elif` and `else` are not necessary.\r\n",
        "\r\n",
        "* `for` loops: \r\n",
        "    ``` \r\n",
        "    for iter_name in iterable: # e.g. a list like [1, 2, 3]\r\n",
        "      # do something\r\n",
        "      print(iter_name)\r\n",
        "    ```\r\n",
        "    \r\n",
        "    Note that `iterable` can be any object that can be iterated over in order. Most commonly, `iterable` is a list. Dictionaries are not iterable as they are unordered. A useful built-in function is `range(n)`, which returns an iterable of all integers from 0 to n-1.\r\n",
        "    \r\n",
        "\r\n",
        "### Logic\r\n",
        "\r\n",
        "* equals: `==` or `is`\r\n",
        "    ```\r\n",
        "    x = 5\r\n",
        "    if x is 5:\r\n",
        "      print(\"true\")\r\n",
        "    else:\r\n",
        "      print(\"false\")\r\n",
        "    ```\r\n",
        "* not: `!` or `not`\r\n",
        "    ```\r\n",
        "    x = 5\r\n",
        "    if x != 5:\r\n",
        "      print(\"false\"):\r\n",
        "    elif x is not 8:\r\n",
        "      print(\"true\")\r\n",
        "    ```\r\n",
        "* logical and/or: `and`/`or` or `&&`/`||`\r\n",
        "* greater/less than: `>`/`<`"
      ]
    },
    {
      "cell_type": "markdown",
      "metadata": {
        "id": "jecxY-Rs4J78"
      },
      "source": [
        "**(exercises)** \r\n",
        "\r\n",
        "1. Write a function that squares a number if it is greater than 10, otherwise halves it.\r\n",
        "\r\n",
        "2. Write a function that takes in two lists and returns a list of all elements in both lists.\r\n",
        "\r\n",
        "3. Write a function that takes in a list and creates a dictionary where each key is an index and the corresponding value is the list value at that index."
      ]
    },
    {
      "cell_type": "code",
      "metadata": {
        "id": "yPe7jk4UuN7p"
      },
      "source": [
        ""
      ],
      "execution_count": null,
      "outputs": []
    },
    {
      "cell_type": "markdown",
      "metadata": {
        "id": "v_LfC-q7Z0Nf"
      },
      "source": [
        "## Numpy and Other Libraries\n",
        "\n",
        "This lab relies on a number of standard scientific computing Python packages. The most important of these is NumPy (Numerical Python, commonly imported as `np`), which is a Python package for numerical computing. We'll briefly cover common numpy functions and syntax; you can find a more in-depth guide [here](https://numpy.org/doc/stable/user/quickstart.html) and you can always consult the documentation or Google if you're confused about a function.\n",
        "\n",
        "The core object of numpy is the `array`, which is similar an ordinary Python list. Numpy arrays are frequently multi-dimensional (like a list of lists), and we call each dimension an axis.\n",
        "\n",
        "You can create numpy arrays through a variety of ways:"
      ]
    },
    {
      "cell_type": "code",
      "metadata": {
        "id": "bJ89KYLMZ0Nh"
      },
      "source": [
        "import numpy as np\n",
        "\n",
        "# call np.array on a valid Python list\n",
        "array = np.array([[1, 2, 3], [4, 5, 6]])\n",
        "print(\"Array 1:\\n\", array)\n",
        "\n",
        "# initialize an array of all zeroes or ones\n",
        "array = np.zeros((3, 4)) # where (3,4) is the shape of the array\n",
        "print(\"Array 2:\\n\", array)\n",
        "\n",
        "array = np.ones((3, 4, 5)) # where (3, 4, 5) is the shape of the array\n",
        "print(\"Array 3:\\n\", array)\n",
        "\n",
        "# initialize an array from a particular distribution\n",
        "array = np.random.normal(loc=0.0, scale=1.0, size=(3,4))  # uses a normal distribution with a mean at 0 and standard deviation of 1.0\n",
        "print(array_normal)"
      ],
      "execution_count": null,
      "outputs": []
    },
    {
      "cell_type": "markdown",
      "metadata": {
        "id": "zqQwTd1NMmU-"
      },
      "source": [
        "Unlike Python lists, numpy arrays must\r\n",
        "* have the same number of elements along each dimension (e.g. `[[1], [2,3]]` would not be a valid numpy array).\r\n",
        "* have all elements be of the same type\r\n",
        "\r\n",
        "We can check the type and shape (dimensions) of an array using built-in numpy attributes of arrays."
      ]
    },
    {
      "cell_type": "code",
      "metadata": {
        "colab": {
          "base_uri": "https://localhost:8080/"
        },
        "id": "4_7fKA1sMW2j",
        "outputId": "2d8b0a5a-820a-45d2-cb5c-e84b94331412"
      },
      "source": [
        "array = np.array([[[1], [2]], [[3], [4]], [[5], [6]]])\r\n",
        "print(\"Data type:\", array.dtype)\r\n",
        "print(\"# dimensions:\", array.ndim)\r\n",
        "print(\"Shape/size of array:\", array.shape)\r\n",
        "print(\"# elements:\", array.size)"
      ],
      "execution_count": null,
      "outputs": [
        {
          "output_type": "stream",
          "text": [
            "Data type: int64\n",
            "# dimensions: 3\n",
            "Shape/size of array: (3, 2, 1)\n",
            "# elements: 6\n"
          ],
          "name": "stdout"
        }
      ]
    },
    {
      "cell_type": "markdown",
      "metadata": {
        "id": "ojQsAsG4-amU"
      },
      "source": [
        "We can access specific elements of an array using braces (like Python lists) and colons (slices)."
      ]
    },
    {
      "cell_type": "code",
      "metadata": {
        "colab": {
          "base_uri": "https://localhost:8080/"
        },
        "id": "jtSHq0kfNvzS",
        "outputId": "67c1b76f-45f8-44de-911d-006a5abbb24e"
      },
      "source": [
        "array = np.arange(24).reshape(4, 6)\r\n",
        "\r\n",
        "print(\"Array:\\n\", array)\r\n",
        "print(\"Element 1, 2: \", array[1, 2]) # access one element\r\n",
        "\r\n",
        "print(\"Column 2:\", array[:, 1]) # access a column, using slice notation (:)\r\n",
        "print(\"Row 1:\", array[0]) # access a row\r\n",
        "\r\n",
        "print(\"2nd-4th row, 1st-3rd col:\\n\", array[1:3, 0:2]) # partial rows and cols\r\n",
        "\r\n",
        "# accessing elements using an array\r\n",
        "print(\"Selecting one element from each row of array using indices in ind:\")\r\n",
        "inds = np.array([0, 2, 0, 1])\r\n",
        "print(array[np.arange(4), inds])  # Prints \"[ 0  8  12 19]\"\r\n",
        "print(\"-----\")"
      ],
      "execution_count": null,
      "outputs": [
        {
          "output_type": "stream",
          "text": [
            "Array:\n",
            " [[ 0  1  2  3  4  5]\n",
            " [ 6  7  8  9 10 11]\n",
            " [12 13 14 15 16 17]\n",
            " [18 19 20 21 22 23]]\n",
            "Element 1, 2:  8\n",
            "Column 2: [ 1  7 13 19]\n",
            "Row 1: [0 1 2 3 4 5]\n",
            "2nd-4th row, 1st-3rd col:\n",
            " [[ 6  7]\n",
            " [12 13]]\n",
            "Selecting one element from each row of a using indices in b:\n",
            "[ 0  8 12 19]\n",
            "-----\n"
          ],
          "name": "stdout"
        }
      ]
    },
    {
      "cell_type": "markdown",
      "metadata": {
        "id": "0xPLlKYxJ8P6"
      },
      "source": [
        "Numpy arrays contain many useful functions as built-in methods for arrays. For example, one of the most useful is `array.sum()`. Other useful methods include `min(), max(), argmin(), argmax(), mean(), std()`. All of these methods take in an `axis` argument that specifies the dimension along which to perform the operation."
      ]
    },
    {
      "cell_type": "code",
      "metadata": {
        "colab": {
          "base_uri": "https://localhost:8080/"
        },
        "id": "uk7CcR_JJ4p_",
        "outputId": "f5df5192-3ce6-4dc6-e361-e9860885207b"
      },
      "source": [
        "x = np.array([[1,2],[3,4]])\n",
        "print(\"x: \\n\", x)\n",
        "print(\"-----\")\n",
        "print(\"Compute sum of all elements in x: \", np.sum(x))  # Compute sum of all elements; prints \"10\"\n",
        "print(\"-----\")\n",
        "print(\"Compute sum of each column in x:\", np.sum(x, axis=0))  # Compute sum of each column; prints \"[4 6]\"\n",
        "print(\"-----\")\n",
        "print(\"Compute sum of each row in x: \", np.sum(x, axis=1))  # Compute sum of each row; prints \"[3 7]\"\n",
        "print(\"-----\")"
      ],
      "execution_count": null,
      "outputs": [
        {
          "output_type": "stream",
          "text": [
            "x: \n",
            " [[1 2]\n",
            " [3 4]]\n",
            "-----\n",
            "Compute sum of all elements in x:  10\n",
            "-----\n",
            "Compute sum of each column in x: [4 6]\n",
            "-----\n",
            "Compute sum of each row in x:  [3 7]\n",
            "-----\n"
          ],
          "name": "stdout"
        }
      ]
    },
    {
      "cell_type": "markdown",
      "metadata": {
        "id": "_jorliwCSC2D"
      },
      "source": [
        "We can transform arrays using Python built-in math operators, as well as more complex math operators in numpy, such as `np.power(), np.exp(), np.sqrt(), np.cos()`, etc."
      ]
    },
    {
      "cell_type": "code",
      "metadata": {
        "colab": {
          "base_uri": "https://localhost:8080/"
        },
        "id": "uy-luRJUSEdL",
        "outputId": "362b4b55-71fb-402f-caed-1bcfc3a031b4"
      },
      "source": [
        "array = np.arange(9).reshape((3,3))\r\n",
        "print(\"Array 1:\\n\", array)\r\n",
        "\r\n",
        "# mathematical transformations\r\n",
        "print(array + 3) # add a constant to every value, broadcasting\r\n",
        "array[0] *= 2 # add a constant to only one row\r\n",
        "print(array)\r\n",
        "print(np.power(array, 2)) # square every element"
      ],
      "execution_count": null,
      "outputs": [
        {
          "output_type": "stream",
          "text": [
            "Array 1:\n",
            " [[0 1 2]\n",
            " [3 4 5]\n",
            " [6 7 8]]\n",
            "[[ 3  4  5]\n",
            " [ 6  7  8]\n",
            " [ 9 10 11]]\n",
            "[[0 2 4]\n",
            " [3 4 5]\n",
            " [6 7 8]]\n",
            "[[ 0  4 16]\n",
            " [ 9 16 25]\n",
            " [36 49 64]]\n"
          ],
          "name": "stdout"
        }
      ]
    },
    {
      "cell_type": "markdown",
      "metadata": {
        "id": "kPE0seexUspH"
      },
      "source": [
        "We can also transform the dimensions and shape of arrays."
      ]
    },
    {
      "cell_type": "code",
      "metadata": {
        "colab": {
          "base_uri": "https://localhost:8080/"
        },
        "id": "kvhropfrUvyy",
        "outputId": "8351d9dc-c852-4aff-dead-1f6e1568bbce"
      },
      "source": [
        "# reshaping\r\n",
        "array = np.arange(9)\r\n",
        "print(\"Array 0:\\n\", array)\r\n",
        "print(\"Array 0 shape:\", array.shape)\r\n",
        "array = array.reshape(3, 3)\r\n",
        "print(\"Array 0:\\n\", array)\r\n",
        "print(\"Array 0 shape:\", array.shape)\r\n",
        "print()\r\n",
        "\r\n",
        "array1 = np.arange(9).reshape((3,3))\r\n",
        "array2 = np.arange(9, 18).reshape((3, 3))\r\n",
        "print(\"Array 1:\\n\", array1)\r\n",
        "print(\"Array 2:\\n\", array2)\r\n",
        "stack_h = np.hstack((array1, array2))\r\n",
        "stack_v = np.vstack((array1, array2))\r\n",
        "print(\"Horizontally stacked array 1 and array 2:\\n\", stack_h)\r\n",
        "print(\"Vertically stacked array 1 and array 2:\\n\", stack_v)\r\n"
      ],
      "execution_count": null,
      "outputs": [
        {
          "output_type": "stream",
          "text": [
            "Array 0:\n",
            " [0 1 2 3 4 5 6 7 8]\n",
            "Array 0 shape: (9,)\n",
            "Array 0:\n",
            " [[0 1 2]\n",
            " [3 4 5]\n",
            " [6 7 8]]\n",
            "Array 0 shape: (3, 3)\n",
            "\n",
            "Array 1:\n",
            " [[0 1 2]\n",
            " [3 4 5]\n",
            " [6 7 8]]\n",
            "Array 2:\n",
            " [[ 9 10 11]\n",
            " [12 13 14]\n",
            " [15 16 17]]\n",
            "Horizontally stacked array 1 and array 2:\n",
            " [[ 0  1  2  9 10 11]\n",
            " [ 3  4  5 12 13 14]\n",
            " [ 6  7  8 15 16 17]]\n",
            "Vertically stacked array 1 and array 2:\n",
            " [[ 0  1  2]\n",
            " [ 3  4  5]\n",
            " [ 6  7  8]\n",
            " [ 9 10 11]\n",
            " [12 13 14]\n",
            " [15 16 17]]\n"
          ],
          "name": "stdout"
        }
      ]
    },
    {
      "cell_type": "markdown",
      "metadata": {
        "id": "heXTvKjE_sbH"
      },
      "source": [
        "We can do all the standard matrix operations using these numpy arrays. Here we show addition, transposing a matrix, matrix multiplication, and matrix inversion."
      ]
    },
    {
      "cell_type": "code",
      "metadata": {
        "colab": {
          "base_uri": "https://localhost:8080/"
        },
        "id": "qgeR0bdR_1fn",
        "outputId": "0cd3f23e-0b70-4422-a01a-304c1036ac32"
      },
      "source": [
        "A = np.random.randint(10, size=(3, 4))\n",
        "B = np.random.randint(10, size=(3, 4))\n",
        "print(\"Matrix A:\\n\", A)\n",
        "print(\"\\nMatrix B:\\n\", B)\n",
        "print(\"\\nA+B:\\n\", A+B)\n",
        "print(\"\\nTranspose B:\\n\", B.transpose())\n",
        "print(\"\\nShape of transpose(B):\", B.transpose().shape)\n",
        "print(\"\\nMatrix multiplication of A and transpose(B):\\n\", np.matmul(A,B.transpose()))\n",
        "\n",
        "C = np.matmul(A,B.transpose())\n",
        "print(\"\\n Invert AB:\", np.linalg.inv(C))"
      ],
      "execution_count": null,
      "outputs": [
        {
          "output_type": "stream",
          "text": [
            "Matrix A:\n",
            " [[3 0 6 6]\n",
            " [5 7 8 5]\n",
            " [8 3 1 8]]\n",
            "\n",
            "Matrix B:\n",
            " [[7 9 4 2]\n",
            " [7 2 3 2]\n",
            " [7 0 2 5]]\n",
            "\n",
            "A+B:\n",
            " [[10  9 10  8]\n",
            " [12  9 11  7]\n",
            " [15  3  3 13]]\n",
            "\n",
            "Transpose B:\n",
            " [[7 7 7]\n",
            " [9 2 0]\n",
            " [4 3 2]\n",
            " [2 2 5]]\n",
            "\n",
            "Shape of transpose(B): (4, 3)\n",
            "\n",
            "Matrix multiplication of A and transpose(B):\n",
            " [[ 57  51  63]\n",
            " [140  83  76]\n",
            " [103  81  98]]\n",
            "\n",
            " Invert (AB): [[-0.1660371  -0.0088139   0.11357341]\n",
            " [ 0.49458575  0.07579955 -0.3767313 ]\n",
            " [-0.23428188 -0.05338706  0.20221607]]\n"
          ],
          "name": "stdout"
        }
      ]
    },
    {
      "cell_type": "markdown",
      "metadata": {
        "id": "Rpv3nDTaVLbt"
      },
      "source": [
        "**(exercises)** \r\n",
        "\r\n",
        "\r\n",
        "1. Write a function that converts an array of Celsius temperatures into an array of Farenheit temperatures (according to the formula $C = (F - 32) / 1.8$).\r\n",
        "\r\n",
        "2. Write a function that sets the first row of a matrix to zero.\r\n",
        "\r\n",
        "3. Create a 5x5 array of the numbers from 1-25, and then append a row of zeroes to the end.\r\n",
        "\r\n",
        "4. Compute the product of $A$ and $B$, where $A$ is a 2x2 matrix of the first four even numbers squared and $B$ is a 2x2 matrix of the first four odd numbers squared.\r\n",
        "\r\n",
        "5. Write a function that divides each column of a matrix by its standard deviation.\r\n",
        "\r\n"
      ]
    },
    {
      "cell_type": "code",
      "metadata": {
        "id": "P6n5Rx20Vxt-"
      },
      "source": [
        ""
      ],
      "execution_count": null,
      "outputs": []
    },
    {
      "cell_type": "markdown",
      "metadata": {
        "id": "OcSA5Bqaetg3"
      },
      "source": [
        "This lab also relies on the following libraries:\n",
        "* MatPlotLib is a plotting package used to create graphs and figures in order to visualize data and models\n",
        "* Scikit-learn is a high-level machine learning library containing common datasets, models, and transformations for machine learning"
      ]
    },
    {
      "cell_type": "code",
      "metadata": {
        "id": "GFsZOHjreyJV"
      },
      "source": [
        "import matplotlib.pyplot as plt"
      ],
      "execution_count": null,
      "outputs": []
    },
    {
      "cell_type": "markdown",
      "metadata": {
        "id": "wFH7BFNeUk2h"
      },
      "source": [
        "# Regression\r\n",
        "\r\n",
        "Regression is the general problem of predicting the value of some quantity of interest given some inputs. Many real-world problems are regression problems, such as predicting\r\n",
        "* how much money a movie will make\r\n",
        "* the score of a basketball game\r\n",
        "* the number of COVID cases\r\n",
        "\r\n",
        "More formally, we describe the regression problem as learning a relationship, or function $f$, between a vector of **input features $x$** and an **output value $y$**. When we evaluate $f$ on a new input $x$, we want the model's prediction $f(x)$ to be close to the actual output $y$.\r\n",
        "\r\n",
        "## Data\r\n",
        "\r\n",
        "Before we discuss what the function $f$ looks like, we will first take a look at the data, which are the ($x$, $y$) pairs. For regression, the output value $y$ will be a scalar number. The input $x$ is a vector, each entry of which we call an **input feature**. An input feature is some property of the underlying problem that we believe might be predictive of the outut. For example, if we are interested in predicting how well someone will score on a test, we might use the number of hours slept the night before as a feature. Though we don't know the exact mathematical relationship between an input feature and the output, we hope that our machine learning methods can learn a function that's close to the true relationship.\r\n",
        "\r\n",
        "For this lab, we'll use a dataset of neighborhood features and try to predict the average house value (in units of 100K) in that neighborhood, though the methods used here will be applicable to any regression dataset you're interested in. We'll load this dataset using Scikit-learn; you can read about it [here](https://scikit-learn.org/stable/datasets/real_world.html#california-housing-dataset)."
      ]
    },
    {
      "cell_type": "code",
      "metadata": {
        "id": "jjzV4GluXkxM"
      },
      "source": [
        "from sklearn.datasets import fetch_california_housing\r\n",
        "X, y = fetch_california_housing(return_X_y=True)"
      ],
      "execution_count": null,
      "outputs": []
    },
    {
      "cell_type": "markdown",
      "metadata": {
        "id": "GqBKjxHMbAJ3"
      },
      "source": [
        "In using machine learning methods, it's important that we first understand the data we're using to make sure the methods we're using are appropriate for the task at hand.\r\n",
        "\r\n",
        "**(exercise)** Let's first understand how much data we have and what a few examples from the dataset look like. Write code to do the following: \r\n",
        "* Print the first 10 examples\r\n",
        "* Determine the number of data points we have\r\n",
        "* Print the min, max, and median values for a feature."
      ]
    },
    {
      "cell_type": "code",
      "metadata": {
        "id": "CUByuXDimjvb"
      },
      "source": [
        ""
      ],
      "execution_count": null,
      "outputs": []
    },
    {
      "cell_type": "markdown",
      "metadata": {
        "id": "iESYSId0mn0W"
      },
      "source": [
        "Next, let's plot the data to get a sense of what it looks like.\r\n",
        "Since the input consists of multiple features, we'll pick out one feature at a time and see what it looks like compared to the housing price. \r\n",
        "\r\n",
        "**(exercise)** Use the following code to write a function that takes in the index of a feature to look at, and generates the plot for that feature."
      ]
    },
    {
      "cell_type": "code",
      "metadata": {
        "colab": {
          "base_uri": "https://localhost:8080/",
          "height": 513
        },
        "id": "0DIullDrXylV",
        "outputId": "bffb43ab-4162-4a80-f942-d30a1e1e0748"
      },
      "source": [
        "plt.scatter(X[:,0], y)\r\n",
        "plt.show()"
      ],
      "execution_count": null,
      "outputs": [
        {
          "output_type": "display_data",
          "data": {
            "image/png": "[encoded data removed]",
            "text/plain": [
              "<Figure size 432x288 with 1 Axes>"
            ]
          },
          "metadata": {
            "tags": [],
            "needs_background": "light"
          }
        },
        {
          "output_type": "display_data",
          "data": {
            "image/png": "[encoded data removed]",
            "text/plain": [
              "<Figure size 432x288 with 1 Axes>"
            ]
          },
          "metadata": {
            "tags": [],
            "needs_background": "light"
          }
        }
      ]
    },
    {
      "cell_type": "markdown",
      "metadata": {
        "id": "1qeeDudgg704"
      },
      "source": [
        "Though we will proceed with using this dataset as provided to us, we can apply any transformations to the data that we think will help surface useful signal to our machine learning model. There is a lot of freedom and room for domain expertise in designing input features for any particular task.\n",
        "\n",
        "If you have time, try adding a feature to the dataset by transforming one of the other features (e.g. take log, create a binary feature if a value crosses a certain threshold, etc.)."
      ]
    },
    {
      "cell_type": "code",
      "metadata": {
        "id": "KJOSPK-ShqGY"
      },
      "source": [
        ""
      ],
      "execution_count": null,
      "outputs": []
    },
    {
      "cell_type": "markdown",
      "metadata": {
        "id": "wlAAwyaRY3vw"
      },
      "source": [
        "\r\n",
        "## Model\r\n",
        "\r\n",
        "Now that we have looked at our data, we need to pick a type of model to learn from our data.\r\n",
        "For this lab, we will use a simple linear model, where we assume that the relationship between the output variable and each input feature is linear. \r\n",
        "\r\n",
        "Mathematically, we write this model as\r\n",
        "$$ y = f(x) = b + \\sum_{i=1}^m w_i x_i $$\r\n",
        "where $i$ indexes each dimension in the $m$-dimensional input feature vector $x$.\r\n",
        "Together, the $w_i$ and $b$ are called the **weights** or **parameters** of the model.\r\n",
        "If $x$ is 1-dimensional, then we get $y = wx + b$; if $x$ is 2-dimensional, then we get $y = w_1 x_1 + w_2 x_2 + b$; and so forth. \r\n",
        "Alternatively, we can write this as \r\n",
        "$$ y = w \\cdot x $$\r\n",
        "where $w$ is a vector representation of the $w_i$. To properly account for the bias term $b$, we append $b$ to $w$ (so that $w$ is $[w_1; w_2; \\dots; w_m; b]$) and append a 1 to the input features $x$.\r\n",
        "\r\n",
        "**(exercise)** Let's write a function which takes in some weights $w$ and $b$ and an input $x$ and outputs the $y$ computed by this model. You can use a for-loop, but we recommend using a vector product (you might find `np.dot()` useful)."
      ]
    },
    {
      "cell_type": "code",
      "metadata": {
        "id": "qYXQlCJ_r8w6"
      },
      "source": [
        "def linear(x, w, b):\r\n",
        "  raise NotImplementedError\r\n",
        "\r\n",
        "assert linear([1], [10], 10) == 20\r\n",
        "assert linear([1, 1], [1, 1], 0) == 2"
      ],
      "execution_count": null,
      "outputs": []
    },
    {
      "cell_type": "markdown",
      "metadata": {
        "id": "yWFgioDar8J6"
      },
      "source": [
        "\r\n",
        "## Training\r\n",
        "\r\n",
        "In order to use this model, we need to first set the value of the weights. But, we don't know what the ''right'' values are.\r\n",
        "In order to do so, we first need to be able to say what constitutes good weights. Then, we can introduce an **objective function** that measures how good any set of weights are. Given this objective function, the best weights are the ones that maximize (or minimize) the objective function.\r\n",
        "\r\n",
        "For regression, we'll use the **residual sum of squares** (RSS):\r\n",
        "$$ L(w) = \\sum_{d \\in D} (y_d - f(x_d))^2 = \\sum_{d \\in D} (y_d - w \\cdot x_d)^2 $$\r\n",
        "where $D$ is our dataset of $(x ,y)$ pairs. Intuitively, this objective function looks at the distance from our model's predictions to the actual output. To pick the best $w$, then, we want to minimize this objective function.\r\n",
        "\r\n",
        "To minimize this expression, we look at where the gradient (or derivative, in 1-d) of the objective function with respect to the weights is equal to zero and solve for $w$ at that point. Let's first compute the derivative. \r\n",
        "\r\n",
        "For convenience, we'll use a vector product representation of the model and a matrix representation of the data ($X$ is a matrix where each row is a data point $x_i$ and $y$ is a column vector of the corresponding $y_i$).\r\n",
        "\r\n",
        "$$X = \\begin{bmatrix} x_1 \\\\ x_2 \\\\ \\dots \\\\ x_D \\end{bmatrix}; y = \\begin{bmatrix} y_1 \\\\ y_2 \\\\ \\dots \\\\ y_D \\end{bmatrix} $$\r\n",
        "\r\n",
        "$$ L(w) = (y - Xw)^\\top (y - Xw)$$\r\n",
        "$$ = y^\\top y - 2w^\\top X^\\top y + w^\\top X^\\top X w $$\r\n",
        "\r\n",
        "Now we can compute the gradient:\r\n",
        "\r\n",
        "$$ \\frac{\\delta L}{\\delta w} = \\frac{\\delta}{\\delta w} ( y^\\top y - 2w^\\top X^\\top y + w^\\top X^\\top X w ) $$\r\n",
        "$$ = -2X^\\top y + 2 X^\\top X w $$\r\n",
        "\r\n",
        "Now let's solve for $w$ when the gradient is zero:\r\n",
        "\r\n",
        "$$ -2X^\\top y + 2 X^\\top X w = 0 $$\r\n",
        "$$ X^\\top X w = X^\\top y $$\r\n",
        "$$ w^* = (X^\\top X)^{-1} X^\\top Y $$\r\n",
        "\r\n",
        "We now have a formula for the optimal value $w^*$ of the weights given the data.\r\n",
        "\r\n",
        "**(exercise)** Write a function that appends 1 to each data point, then write a function that computes the optimal weights according to this formula. You might find `np.transpose()`, `np.matmul()`, and `np.linalg.inv()` useful."
      ]
    },
    {
      "cell_type": "code",
      "metadata": {
        "id": "Rh-DDk8aoD4h"
      },
      "source": [
        "# write code for computing the optimal regression weights for the dataset\r\n",
        "def append_ones(Xs):\r\n",
        "  raise NotImplementedError\r\n",
        "\r\n",
        "def compute_weights(Xs, ys):\r\n",
        "  tmp1 = np.linalg.inv(np.matmul(np.transpose(Xs), Xs))\r\n",
        "  tmp2 = np.matmul(np.transpose(Xs), ys)\r\n",
        "  raise NotImplementedError\r\n",
        "\r\n",
        "X_new = append_ones(X)\r\n",
        "w_star = compute_w(X_new, y)"
      ],
      "execution_count": null,
      "outputs": []
    },
    {
      "cell_type": "markdown",
      "metadata": {
        "id": "Y6taUKoKzviK"
      },
      "source": [
        "Now that we can compute the optimal weights, we can do so on our dataset. However, we don't just care about how well our model does on our data, but also any future data we might receive. In order to see how well our learned model performs on future data, we can split up our dataset into a **training set** and a **test set**. \r\n",
        "\r\n",
        "**(exercise)** Let's write a function to reserve 20% of the data for testing, and then compute the optimal weights on the remaining 80% of the data. \r\n",
        "\r\n",
        "What is the value of the bias term $b$ the model learns?"
      ]
    },
    {
      "cell_type": "code",
      "metadata": {
        "id": "jK5l9Zm2zw1g"
      },
      "source": [
        ""
      ],
      "execution_count": null,
      "outputs": []
    },
    {
      "cell_type": "markdown",
      "metadata": {
        "id": "IPjVbQHEoEIm"
      },
      "source": [
        "\r\n",
        "## Evaluation\r\n",
        "\r\n",
        "Now that we have a model, let's evaluate how good our model is.\r\n",
        "Again, we need some sense of what counts as good, so we will use the RSS to define good (lower RSS is better). However, since RSS is a sum, it will naturally be higher when we evaluate on more data, so let's instead compute the mean squared error (MSE) over examples. MSE is the following:\r\n",
        "\r\n",
        "$$ MSE = \\frac{1}{D||} \\sum_{i = 1}^{|D|} (y - w \\cdot x)^2 $$\r\n",
        "\r\n",
        "\r\n",
        "**(exercise)** Write a function to compute MSE, then compute the MSE for $w^*$ on the training data and the test data.\r\n"
      ]
    },
    {
      "cell_type": "code",
      "metadata": {
        "colab": {
          "base_uri": "https://localhost:8080/"
        },
        "id": "Qb2guYTuoJ4M",
        "outputId": "877e41e0-40f1-4a4d-ea33-38d03f587649"
      },
      "source": [
        "# write code for evaluating the RSS of the model predictions versus the actual target on the test set\r\n",
        "\r\n",
        "def mse(w, X, y):\r\n",
        "  raise NotImplementedError"
      ],
      "execution_count": null,
      "outputs": [
        {
          "output_type": "stream",
          "text": [
            "Train error: 0.5355338064877694\n",
            "Test error: 0.4946848356382133\n"
          ],
          "name": "stdout"
        }
      ]
    },
    {
      "cell_type": "markdown",
      "metadata": {
        "id": "SELIct973E0s"
      },
      "source": [
        "A nice property of a linear model is that the weights are interpretable: We can look at the magnitude of the weights for each feature to get a sense of which features are most influential in predicting the output.\n",
        "\n",
        "**(exercise)** Write code to look at the learned weights and determine which features the model puts the highest weight on."
      ]
    },
    {
      "cell_type": "code",
      "metadata": {
        "id": "ji_wvUp33qXK"
      },
      "source": [
        "# write code for looking at the weights to see the importance of each feature"
      ],
      "execution_count": null,
      "outputs": []
    },
    {
      "cell_type": "markdown",
      "metadata": {
        "id": "95SfLBiTnb9u"
      },
      "source": [
        "# PyTorch\n",
        "\n",
        "The material in this section is borrowed from [here](https://pytorch.org/tutorials/beginner/deep_learning_60min_blitz.html)\n",
        "\n",
        "**What is PyTorch?**\n",
        "\n",
        "PyTorch is a Python-based scientific computing package serving two broad purposes:\n",
        "* A replacement for NumPy to use the power of GPUs and other accelerators.\n",
        "* An automatic differentiation library that is useful to implement neural networks.\n",
        "\n",
        "**Goal of this tutorial:**\n",
        "\n",
        "Understand PyTorch’s Tensor library and neural networks at a high level.\n",
        "Train a small neural network to classify images"
      ]
    },
    {
      "cell_type": "markdown",
      "metadata": {
        "id": "hDl9sXELx3XQ"
      },
      "source": [
        "## Tensors\n",
        "\n",
        "Tensors are a specialized data structure that are very similar to arrays and matrices. In PyTorch, we use tensors to encode the inputs and outputs of a model, as well as the model’s parameters.\n",
        "\n",
        "Tensors are similar to NumPy’s ndarrays, except that tensors can run on GPUs or other specialized hardware to accelerate computing. If you’re familiar with ndarrays, you’ll be right at home with the Tensor API. If not, follow along in this quick API walkthrough."
      ]
    },
    {
      "cell_type": "code",
      "metadata": {
        "id": "cufYkqoix_lT"
      },
      "source": [
        "import torch\n",
        "import numpy as np"
      ],
      "execution_count": null,
      "outputs": []
    },
    {
      "cell_type": "markdown",
      "metadata": {
        "id": "LrG3ItA8yARk"
      },
      "source": [
        "### Tensor Initialization\n",
        "\n",
        "Tensors can be initialized in various ways. Take a look at the following examples:\n",
        "\n",
        "**Directly from data**\n",
        "\n",
        "Tensors can be created directly from data. The data type is automatically inferred."
      ]
    },
    {
      "cell_type": "code",
      "metadata": {
        "id": "cBkIzWteyJqn"
      },
      "source": [
        "data = [[1, 2],[3, 4]]\n",
        "x_data = torch.tensor(data)"
      ],
      "execution_count": null,
      "outputs": []
    },
    {
      "cell_type": "markdown",
      "metadata": {
        "id": "qqozxiGjyKqv"
      },
      "source": [
        "**From a NumPy array**\n",
        "\n",
        "Tensors can be created from NumPy arrays (and vice versa)."
      ]
    },
    {
      "cell_type": "code",
      "metadata": {
        "id": "oQX68gs6yTLF"
      },
      "source": [
        "np_array = np.array(data)\n",
        "x_np = torch.from_numpy(np_array)"
      ],
      "execution_count": null,
      "outputs": []
    },
    {
      "cell_type": "markdown",
      "metadata": {
        "id": "qGz7Ex5wyWt8"
      },
      "source": [
        "**From another tensor:**\n",
        "\n",
        "The new tensor retains the properties (shape, datatype) of the argument tensor, unless explicitly overridden."
      ]
    },
    {
      "cell_type": "code",
      "metadata": {
        "id": "uOh5LkoqyZ5S"
      },
      "source": [
        "x_ones = torch.ones_like(x_data) # retains the properties of x_data\n",
        "print(f\"Ones Tensor: \\n {x_ones} \\n\")\n",
        "\n",
        "x_rand = torch.rand_like(x_data, dtype=torch.float) # overrides the datatype of x_data\n",
        "print(f\"Random Tensor: \\n {x_rand} \\n\")"
      ],
      "execution_count": null,
      "outputs": []
    },
    {
      "cell_type": "markdown",
      "metadata": {
        "id": "9bHbzKH2ycCM"
      },
      "source": [
        "**With random or constant values:**\n",
        "\n",
        "shape is a tuple of tensor dimensions. In the functions below, it determines the dimensionality of the output tensor."
      ]
    },
    {
      "cell_type": "markdown",
      "metadata": {
        "id": "LuHfrDrQyiE1"
      },
      "source": [
        "### Tensor Attributes\n",
        "\n",
        "Tensor attributes describe their shape, datatype, and the device on which they are stored."
      ]
    },
    {
      "cell_type": "code",
      "metadata": {
        "id": "l5wNEGQ8ylDz"
      },
      "source": [
        "tensor = torch.rand(3,4)\n",
        "\n",
        "print(f\"Shape of tensor: {tensor.shape}\")\n",
        "print(f\"Datatype of tensor: {tensor.dtype}\")\n",
        "print(f\"Device tensor is stored on: {tensor.device}\")"
      ],
      "execution_count": null,
      "outputs": []
    },
    {
      "cell_type": "markdown",
      "metadata": {
        "id": "o3R783B6ylzM"
      },
      "source": [
        "### Tensor Operations\n",
        "\n",
        "Over 100 tensor operations, including transposing, indexing, slicing, mathematical operations, linear algebra, random sampling, and more are comprehensively described here.\n",
        "\n",
        "Each of them can be run on the GPU (at typically higher speeds than on a CPU). If you’re using Colab, allocate a GPU by going to Edit > Notebook Settings."
      ]
    },
    {
      "cell_type": "code",
      "metadata": {
        "id": "vERXB6n0yqYJ"
      },
      "source": [
        "# We move our tensor to the GPU if available\n",
        "if torch.cuda.is_available():\n",
        "  tensor = tensor.to('cuda')"
      ],
      "execution_count": null,
      "outputs": []
    },
    {
      "cell_type": "markdown",
      "metadata": {
        "id": "CFbl5lUHyrDM"
      },
      "source": [
        "Try out some of the operations from the list. If you’re familiar with the NumPy API, you’ll find the Tensor API a breeze to use.\n",
        "\n",
        "**Standard numpy-like indexing and slicing:**"
      ]
    },
    {
      "cell_type": "code",
      "metadata": {
        "id": "etlzxjJuywV8"
      },
      "source": [
        "tensor = torch.ones(4, 4)\n",
        "tensor[:,1] = 0\n",
        "print(tensor)"
      ],
      "execution_count": null,
      "outputs": []
    },
    {
      "cell_type": "markdown",
      "metadata": {
        "id": "peBOM6_Wyw0v"
      },
      "source": [
        "**Joining tensors** You can use torch.cat to concatenate a sequence of tensors along a given dimension. See also torch.stack, another tensor joining op that is subtly different from torch.cat."
      ]
    },
    {
      "cell_type": "code",
      "metadata": {
        "id": "gnM7q14Fy1OP"
      },
      "source": [
        "t1 = torch.cat([tensor, tensor, tensor], dim=1)\n",
        "print(t1)"
      ],
      "execution_count": null,
      "outputs": []
    },
    {
      "cell_type": "markdown",
      "metadata": {
        "id": "X7cHyirby4EP"
      },
      "source": [
        "**Multiplying tensors**"
      ]
    },
    {
      "cell_type": "code",
      "metadata": {
        "id": "nxqQjiehy7Df"
      },
      "source": [
        "# This computes the element-wise product\n",
        "print(f\"tensor.mul(tensor) \\n {tensor.mul(tensor)} \\n\")\n",
        "# Alternative syntax:\n",
        "print(f\"tensor * tensor \\n {tensor * tensor}\")"
      ],
      "execution_count": null,
      "outputs": []
    },
    {
      "cell_type": "markdown",
      "metadata": {
        "id": "fC5CT5Xmy74m"
      },
      "source": [
        "This computes the matrix multiplication between two tensors\n",
        "\n"
      ]
    },
    {
      "cell_type": "code",
      "metadata": {
        "id": "czIxXEJmy_oa"
      },
      "source": [
        "print(f\"tensor.matmul(tensor.T) \\n {tensor.matmul(tensor.T)} \\n\")\n",
        "# Alternative syntax:\n",
        "print(f\"tensor @ tensor.T \\n {tensor @ tensor.T}\")"
      ],
      "execution_count": null,
      "outputs": []
    },
    {
      "cell_type": "markdown",
      "metadata": {
        "id": "Yolxt60MzGYC"
      },
      "source": [
        "**In-place operations** Operations that have a _ suffix are in-place. For example: x.copy_(y), x.t_(), will change x."
      ]
    },
    {
      "cell_type": "code",
      "metadata": {
        "id": "4nZcFQggzJ-4"
      },
      "source": [
        "print(tensor, \"\\n\")\n",
        "tensor.add_(5)\n",
        "print(tensor)"
      ],
      "execution_count": null,
      "outputs": []
    },
    {
      "cell_type": "markdown",
      "metadata": {
        "id": "DMLDsc9ozO1R"
      },
      "source": [
        "### Bridge with NumPy\n",
        "\n",
        "Tensors on the CPU and NumPy arrays can share their underlying memory locations, and changing one will change the other.\n",
        "\n",
        "### Tensor to NumPy array"
      ]
    },
    {
      "cell_type": "code",
      "metadata": {
        "id": "kErWZIOfzVsi"
      },
      "source": [
        "t = torch.ones(5)\n",
        "print(f\"t: {t}\")\n",
        "n = t.numpy()\n",
        "print(f\"n: {n}\")"
      ],
      "execution_count": null,
      "outputs": []
    },
    {
      "cell_type": "markdown",
      "metadata": {
        "id": "7SK-BA-hzXwr"
      },
      "source": [
        "A change in the tensor reflects in the NumPy array."
      ]
    },
    {
      "cell_type": "code",
      "metadata": {
        "id": "3l8EgmHgzaV8"
      },
      "source": [
        "t.add_(1)\n",
        "print(f\"t: {t}\")\n",
        "print(f\"n: {n}\")"
      ],
      "execution_count": null,
      "outputs": []
    },
    {
      "cell_type": "markdown",
      "metadata": {
        "id": "MOqQlG55zcGH"
      },
      "source": [
        "NumPy array to Tensor\n",
        "\n"
      ]
    },
    {
      "cell_type": "code",
      "metadata": {
        "id": "rTJD_1fVzem_"
      },
      "source": [
        "n = np.ones(5)\n",
        "t = torch.from_numpy(n)"
      ],
      "execution_count": null,
      "outputs": []
    },
    {
      "cell_type": "markdown",
      "metadata": {
        "id": "hMtuursEzgPs"
      },
      "source": [
        "Changes in the NumPy array reflects in the tensor."
      ]
    },
    {
      "cell_type": "code",
      "metadata": {
        "id": "VaK015BzzjXg"
      },
      "source": [
        "np.add(n, 1, out=n)\n",
        "print(f\"t: {t}\")\n",
        "print(f\"n: {n}\")"
      ],
      "execution_count": null,
      "outputs": []
    },
    {
      "cell_type": "markdown",
      "metadata": {
        "id": "1q_v5N-6znrr"
      },
      "source": [
        "## A Gentle Introduction To `torch.autograd`\n",
        "\n",
        "`torch.autograd` is PyTorch’s automatic differentiation engine that powers neural network training. In this section, you will get a conceptual understanding of how autograd helps a neural network train.\n",
        "\n",
        "### Background\n",
        "\n",
        "Neural networks (NNs) are a collection of nested functions that are executed on some input data. These functions are defined by parameters (consisting of weights and biases), which in PyTorch are stored in tensors.\n",
        "\n",
        "Training a NN happens in two steps:\n",
        "\n",
        "**Forward Propagation:** In forward prop, the NN makes its best guess about the correct output. It runs the input data through each of its functions to make this guess.\n",
        "\n",
        "**Backward Propagation:** In backprop, the NN adjusts its parameters proportionate to the error in its guess. It does this by traversing backwards from the output, collecting the derivatives of the error with respect to the parameters of the functions (gradients), and optimizing the parameters using gradient descent. For a more detailed walkthrough of backprop, [check out this video from 3Blue1Brown](https://www.youtube.com/watch?v=tIeHLnjs5U8)."
      ]
    },
    {
      "cell_type": "markdown",
      "metadata": {
        "id": "hHAxRnEd01GJ"
      },
      "source": [
        "### Differentiation in Autograd"
      ]
    },
    {
      "cell_type": "code",
      "metadata": {
        "id": "a8hxDwYJ02vi"
      },
      "source": [
        "import torch\n",
        "\n",
        "a = torch.tensor([2., 3.], requires_grad=True)\n",
        "b = torch.tensor([6., 4.], requires_grad=True)"
      ],
      "execution_count": null,
      "outputs": []
    },
    {
      "cell_type": "markdown",
      "metadata": {
        "id": "Mtt0San-04cf"
      },
      "source": [
        "We create another tensor Q from a and b.\n",
        "\n",
        "$Q=3a^{3} - b^{2}$"
      ]
    },
    {
      "cell_type": "code",
      "metadata": {
        "id": "qG-9-MgE1B5X"
      },
      "source": [
        "Q = 3*a**3 - b**2"
      ],
      "execution_count": null,
      "outputs": []
    },
    {
      "cell_type": "markdown",
      "metadata": {
        "id": "kWBl1eNU1CXj"
      },
      "source": [
        "Let’s assume a and b to be parameters of an NN, and Q to be the error. In NN training, we want gradients of the error w.r.t. parameters, i.e.\n",
        "\n",
        "$\\frac{\\partial Q}{\\partial a} = 9a^{2}$\n",
        "\n",
        "$\\frac{\\partial Q}{\\partial b} = -2b$"
      ]
    },
    {
      "cell_type": "markdown",
      "metadata": {
        "id": "DJ7kMPii1gcd"
      },
      "source": [
        "When we call .backward() on Q, autograd calculates these gradients and stores them in the respective tensors’ .grad attribute.\n",
        "\n",
        "We need to explicitly pass a gradient argument in Q.backward() because it is a vector. gradient is a tensor of the same shape as Q, and it represents the gradient of Q w.r.t. itself, i.e.\n",
        "\n",
        "$\\frac{\\partial Q}{\\partial Q} = 1$\n",
        "\n",
        "Equivalently, we can also aggregate Q into a scalar and call backward implicitly, like Q.sum().backward().\n",
        "\n"
      ]
    },
    {
      "cell_type": "code",
      "metadata": {
        "id": "e7SVrSFz1r8H"
      },
      "source": [
        "external_grad = torch.tensor([1., 1.])\n",
        "Q.backward(gradient=external_grad)"
      ],
      "execution_count": null,
      "outputs": []
    },
    {
      "cell_type": "markdown",
      "metadata": {
        "id": "LUx2vXcS1uPG"
      },
      "source": [
        "Gradients are now deposited in a.grad and b.grad"
      ]
    },
    {
      "cell_type": "code",
      "metadata": {
        "id": "wqTMDgjU1vz1"
      },
      "source": [
        "# check if collected gradients are correct\n",
        "print(9*a**2 == a.grad)\n",
        "print(-2*b == b.grad)"
      ],
      "execution_count": null,
      "outputs": []
    }
  ]
}